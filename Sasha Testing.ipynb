{
 "cells": [
  {
   "cell_type": "markdown",
   "metadata": {},
   "source": [
    "## Passsage of Time"
   ]
  },
  {
   "cell_type": "markdown",
   "metadata": {},
   "source": [
    "Testing the passage of time in the simulation using SimPy (?)"
   ]
  },
  {
   "cell_type": "code",
   "execution_count": 1,
   "metadata": {},
   "outputs": [],
   "source": [
    "%load_ext autoreload\n",
    "%autoreload 2"
   ]
  },
  {
   "cell_type": "code",
   "execution_count": 2,
   "metadata": {},
   "outputs": [
    {
     "name": "stdout",
     "output_type": "stream",
     "text": [
      "{'vaccination': vaccination(15 facts), 'heterosexuality': heterosexuality(10 facts), 'abortion': abortion(5 facts), 'democrat': democrat(20 facts), 'death_penalty': death_penalty(5 facts)}\n",
      "Big Bang!\n"
     ]
    },
    {
     "data": {
      "text/plain": [
       "{'Area 51': Area 51,\n",
       " 'Atlanta': Atlanta,\n",
       " 'Pittsburgh': Pittsburgh,\n",
       " 'Raleigh': Raleigh}"
      ]
     },
     "execution_count": 2,
     "metadata": {},
     "output_type": "execute_result"
    }
   ],
   "source": [
    "from World import World\n",
    "from configs import *\n",
    "world = World()\n",
    "world.towns"
   ]
  },
  {
   "cell_type": "code",
   "execution_count": null,
   "metadata": {},
   "outputs": [],
   "source": []
  },
  {
   "cell_type": "code",
   "execution_count": 4,
   "metadata": {},
   "outputs": [
    {
     "name": "stdout",
     "output_type": "stream",
     "text": [
      "Simulating 10 years\n",
      "For Demo check:  40 Amy Daulton-Seawood democrat_18\n",
      "For Demo check:  40 Amy Daulton-Seawood democrat_19\n",
      "For Demo check:  46 Bryce Krueger democrat_14\n",
      "For Demo check:  46 Bryce Krueger democrat_13\n",
      "For Demo check:  42 Leona Krueger democrat_12\n",
      "For Demo check:  40 Amy Daulton-Seawood death_penalty_1\n",
      "For Demo check:  47 Richard Jaynes death_penalty_1\n",
      "For Demo check:  42 Leona Krueger death_penalty_1\n",
      "For Demo check:  48 Janice Ludlam vaccination_14\n",
      "For Demo check:  46 Bryce Krueger democrat_19\n",
      "For Demo check:  47 Richard Jaynes democrat_19\n",
      "For Demo check:  45 Sara Daulton-Seawood democrat_19\n",
      "For Demo check:  47 Richard Jaynes democrat_10\n",
      "For Demo check:  48 Janice Ludlam vaccination_12\n"
     ]
    }
   ],
   "source": [
    "world.simulate_time()"
   ]
  },
  {
   "cell_type": "code",
   "execution_count": null,
   "metadata": {},
   "outputs": [],
   "source": []
  },
  {
   "cell_type": "code",
   "execution_count": 5,
   "metadata": {},
   "outputs": [
    {
     "data": {
      "text/plain": [
       "Amy Daulton-Seawood"
      ]
     },
     "execution_count": 5,
     "metadata": {},
     "output_type": "execute_result"
    }
   ],
   "source": [
    "index, info = find_most_changed_fact(world)\n",
    "world.living_population[index]"
   ]
  },
  {
   "cell_type": "code",
   "execution_count": 9,
   "metadata": {},
   "outputs": [
    {
     "data": {
      "text/plain": [
       "[u'08-07-1991 - I was born in Raleigh. My mother is Faith Daulton-Seawood.My father is Roger Daulton-Seawood ',\n",
       " 'I met Leona Krueger. We discussed democrat_18 for 3 minutes.',\n",
       " 'I changed my opinions about democrat_18 after the discussion.',\n",
       " 'I met Leona Krueger. We discussed democrat_18 for 6 minutes.',\n",
       " 'I met Leona Krueger. We discussed democrat_18 for 7 minutes.',\n",
       " 'I met Leona Krueger. We discussed democrat_18 for 8 minutes.',\n",
       " 'I met Leona Krueger. We discussed democrat_19 for 5 minutes.',\n",
       " 'I changed my opinions about democrat_19 after the discussion.',\n",
       " 'I met Sara Daulton-Seawood and Leona Krueger. We discussed heterosexuality_2 for 10 minutes.',\n",
       " 'I met Bryce KruegerSara Daulton-Seawood and Leona Krueger. We discussed democrat_14 for 4 minutes.',\n",
       " 'I met Bryce KruegerSara Daulton-Seawood and Leona Krueger. We discussed democrat_13 for 2 minutes.',\n",
       " 'I met Bryce KruegerSara Daulton-Seawood and Leona Krueger. We discussed democrat_11 for 7 minutes.',\n",
       " 'I met Bryce KruegerSara Daulton-Seawood and Leona Krueger. We discussed democrat_11 for 4 minutes.',\n",
       " 'I met Bryce KruegerSara Daulton-Seawood and Leona Krueger. We discussed democrat_12 for 2 minutes.',\n",
       " 'I met Bryce KruegerSara Daulton-Seawood and Leona Krueger. We discussed democrat_11 for 5 minutes.',\n",
       " 'I met Bryce KruegerSara Daulton-Seawood and Leona Krueger. We discussed democrat_18 for 2 minutes.',\n",
       " 'I met Bryce KruegerRichard Jaynes, Sara Daulton-Seawood and Leona Krueger. We discussed death_penalty_1 for 10 minutes.',\n",
       " 'I changed my opinions about death_penalty_1 after the discussion.',\n",
       " 'I met Bryce KruegerRichard Jaynes, Sara Daulton-Seawood and Leona Krueger. We discussed democrat_18 for 1 minutes.',\n",
       " 'I met Bryce KruegerRichard Jaynes, Sara Daulton-Seawood and Leona Krueger. We discussed democrat_12 for 10 minutes.',\n",
       " 'I met Bryce KruegerRichard Jaynes, Sara Daulton-Seawood and Leona Krueger. We discussed democrat_19 for 5 minutes.',\n",
       " 'I met Bryce KruegerRichard Jaynes, Sara Daulton-Seawood and Leona Krueger. We discussed democrat_10 for 1 minutes.',\n",
       " 'I met Bryce KruegerRichard Jaynes, Sara Daulton-Seawood and Leona Krueger. We discussed democrat_18 for 3 minutes.']"
      ]
     },
     "execution_count": 9,
     "metadata": {},
     "output_type": "execute_result"
    }
   ],
   "source": [
    "world.living_population[index].journal"
   ]
  },
  {
   "cell_type": "code",
   "execution_count": 7,
   "metadata": {},
   "outputs": [
    {
     "data": {
      "text/plain": [
       "{'historical_opinions': [attitude: 0.34 | opinion: 0.988395442204 | unc: 0.65],\n",
       " 'name': 'democrat_18',\n",
       " 'opinion': attitude: 0.28 | opinion: 0.58 | unc: 0.3,\n",
       " 'tag': 'politics',\n",
       " 'topic': 'democrat'}"
      ]
     },
     "execution_count": 7,
     "metadata": {},
     "output_type": "execute_result"
    }
   ],
   "source": [
    "info.__dict__"
   ]
  },
  {
   "cell_type": "code",
   "execution_count": 8,
   "metadata": {},
   "outputs": [
    {
     "name": "stdout",
     "output_type": "stream",
     "text": [
      "democrat_18 : attitude: 0.28 | opinion: 0.58 | unc: 0.3\n",
      "\t \tBefore:  [attitude: 0.34 | opinion: 0.988395442204 | unc: 0.65]\n",
      "democrat_19 : attitude: -0.5 | opinion: -0.92 | unc: 0.42\n",
      "\t \tBefore:  [attitude: -0.86 | opinion: -1.4694732308 | unc: 0.61]\n",
      "death_penalty_1 : attitude: 0.38 | opinion: -0.03 | unc: 0.41\n",
      "\t \tBefore:  [attitude: 0.49 | opinion: -0.162635171957 | unc: 0.65]\n"
     ]
    }
   ],
   "source": [
    "find_all_changed_facts_for_person_index(world, index)"
   ]
  },
  {
   "cell_type": "code",
   "execution_count": null,
   "metadata": {
    "collapsed": true
   },
   "outputs": [],
   "source": []
  },
  {
   "cell_type": "code",
   "execution_count": null,
   "metadata": {
    "collapsed": true
   },
   "outputs": [],
   "source": []
  },
  {
   "cell_type": "code",
   "execution_count": null,
   "metadata": {},
   "outputs": [],
   "source": []
  },
  {
   "cell_type": "code",
   "execution_count": null,
   "metadata": {
    "collapsed": true
   },
   "outputs": [],
   "source": []
  },
  {
   "cell_type": "code",
   "execution_count": null,
   "metadata": {
    "collapsed": true
   },
   "outputs": [],
   "source": []
  },
  {
   "cell_type": "code",
   "execution_count": null,
   "metadata": {
    "collapsed": true
   },
   "outputs": [],
   "source": []
  }
 ],
 "metadata": {
  "kernelspec": {
   "display_name": "Python 2",
   "language": "python",
   "name": "python2"
  },
  "language_info": {
   "codemirror_mode": {
    "name": "ipython",
    "version": 2
   },
   "file_extension": ".py",
   "mimetype": "text/x-python",
   "name": "python",
   "nbconvert_exporter": "python",
   "pygments_lexer": "ipython2",
   "version": "2.7.13"
  }
 },
 "nbformat": 4,
 "nbformat_minor": 2
}
