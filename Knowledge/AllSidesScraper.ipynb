{
 "cells": [
  {
   "cell_type": "code",
   "execution_count": 1,
   "metadata": {
    "collapsed": true
   },
   "outputs": [],
   "source": [
    "%load_ext autoreload\n",
    "%autoreload 4"
   ]
  },
  {
   "cell_type": "code",
   "execution_count": 2,
   "metadata": {
    "collapsed": true
   },
   "outputs": [],
   "source": [
    "from scraper import *"
   ]
  },
  {
   "cell_type": "code",
   "execution_count": 3,
   "metadata": {
    "scrolled": false
   },
   "outputs": [
    {
     "name": "stdout",
     "output_type": "stream",
     "text": [
      "--------------------\n",
      "Topic:  White House\n",
      "--------------------\n",
      "Topic:  Media Bias\n",
      "--------------------\n",
      "Topic:  US Constitution\n",
      "--------------------\n",
      "Topic:  Voter Rights - Voter Integrity\n",
      "--------------------\n",
      "Topic:  Supreme Court\n",
      "--------------------\n",
      "Topic:  Labor\n",
      "--------------------\n",
      "Topic:  Middle East\n",
      "--------------------\n",
      "Topic:  Palestine\n",
      "--------------------\n",
      "Topic:  Arts and Entertainment\n",
      "--------------------\n",
      "Topic:  EPA\n",
      "--------------------\n",
      "Topic:  Nuclear Weapons\n",
      "--------------------\n",
      "Topic:  Election: Presidential\n",
      "--------------------\n",
      "Topic:  Holidays\n",
      "--------------------\n",
      "Topic:  Federal Budget\n",
      "--------------------\n",
      "Topic:  World\n",
      "--------------------\n",
      "Topic:  Tea Party\n",
      "--------------------\n",
      "Topic:  Occupy Wall Street\n",
      "--------------------\n",
      "Topic:  Taxes\n",
      "--------------------\n",
      "Topic:  Medicare\n",
      "--------------------\n",
      "Topic:  Foreign Policy\n",
      "--------------------\n",
      "Topic:  Polarization\n",
      "--------------------\n",
      "Topic:  Role of Government\n",
      "--------------------\n",
      "Topic:  Defense\n",
      "--------------------\n",
      "Topic:  South Korea\n",
      "--------------------\n",
      "Topic:  Education\n",
      "--------------------\n",
      "Topic:  Agriculture\n",
      "--------------------\n",
      "Topic:  FDA\n",
      "--------------------\n",
      "Topic:  Faith\n",
      "--------------------\n",
      "Topic:  Sports\n",
      "--------------------\n",
      "Topic:  Treasury\n",
      "--------------------\n",
      "Topic:  Ebola\n",
      "--------------------\n",
      "Topic:  Economy and Jobs\n",
      "--------------------\n",
      "Topic:  Terrorism\n",
      "--------------------\n",
      "Topic:  State Department\n",
      "--------------------\n",
      "Topic:  China\n",
      "--------------------\n",
      "Topic:  Veterans Affairs\n",
      "--------------------\n",
      "Topic:  US Senate\n",
      "--------------------\n",
      "Topic:  Abortion\n",
      "--------------------\n",
      "Topic:  National Defense\n",
      "--------------------\n",
      "Topic:  US Congress\n",
      "--------------------\n",
      "Topic:  Transportation\n",
      "--------------------\n",
      "Topic:  Family and Marriage\n",
      "--------------------\n",
      "Topic:  Russia\n",
      "--------------------\n",
      "Topic:  Death Penalty\n",
      "--------------------\n",
      "Topic:  Retirement Security\n",
      "--------------------\n",
      "Topic:  Obesity / Mal-Nutrition\n",
      "--------------------\n",
      "Topic:  Energy\n",
      "--------------------\n",
      "Topic:  Trade\n",
      "--------------------\n",
      "Topic:  Criminal Justice\n",
      "--------------------\n",
      "Topic:  Capital Punishment\n",
      "--------------------\n",
      "Topic:  Welfare\n",
      "--------------------\n",
      "Topic:  Technology\n",
      "--------------------\n",
      "Topic:  Privacy\n",
      "--------------------\n",
      "Topic:  Justice\n",
      "--------------------\n",
      "Topic:  Free Speech\n",
      "--------------------\n",
      "Topic:  Science and Nature\n",
      "--------------------\n",
      "Topic:  Asia\n",
      "--------------------\n",
      "Topic:  Campaign Finance\n",
      "--------------------\n",
      "Topic:  Great Britain\n",
      "--------------------\n",
      "Topic:  Holiday\n",
      "--------------------\n",
      "Topic:  Environment\n",
      "--------------------\n",
      "Topic:  Europe\n",
      "--------------------\n",
      "Topic:  ISIS\n",
      "--------------------\n",
      "Topic:  National Security\n",
      "--------------------\n",
      "Topic:  Immigration\n",
      "--------------------\n",
      "Topic:  Medicaid\n",
      "--------------------\n",
      "Topic:  Republican Party\n",
      "--------------------\n",
      "Topic:  Civil Rights\n",
      "--------------------\n",
      "Topic:  Elections\n",
      "--------------------\n",
      "Topic:  Healthcare\n",
      "--------------------\n",
      "Topic:  US Military\n",
      "--------------------\n",
      "Topic:  Cybersecurity\n",
      "--------------------\n",
      "Topic:  Africa\n",
      "--------------------\n",
      "Topic:  Culture\n",
      "--------------------\n",
      "Topic:  Banking/Finance\n",
      "--------------------\n",
      "Topic:  Corporations\n",
      "--------------------\n",
      "Topic:  FBI\n",
      "--------------------\n",
      "Topic:  Religion and Faith\n",
      "--------------------\n",
      "Topic:  CIA\n",
      "--------------------\n",
      "Topic:  General News\n",
      "--------------------\n",
      "Topic:  Embryonic Stem Cell\n",
      "--------------------\n",
      "Topic:  Campaign Rhetoric\n",
      "--------------------\n",
      "Topic:  DEA\n",
      "--------------------\n",
      "Topic:  Israel\n",
      "--------------------\n",
      "Topic:  Justice Department\n",
      "--------------------\n",
      "Topic:  NSA\n",
      "--------------------\n",
      "Topic:  Budget - Debt\n",
      "--------------------\n",
      "Topic:  US House\n",
      "--------------------\n",
      "Topic:  Fake News\n",
      "--------------------\n",
      "Topic:  Violence in America\n",
      "--------------------\n",
      "Topic:  North Korea\n",
      "--------------------\n",
      "Topic:  Inequality\n",
      "--------------------\n",
      "Topic:  Bridging Divides\n",
      "--------------------\n",
      "Topic:  LGBT Rights\n",
      "--------------------\n",
      "Topic:  Marijuana Legalization\n",
      "--------------------\n",
      "Topic:  Gun Control and Gun Rights\n",
      "--------------------\n",
      "Topic:  Social Security\n",
      "--------------------\n",
      "Topic:  Disaster\n",
      "--------------------\n",
      "Topic:  Mexico\n",
      "--------------------\n",
      "Topic:  Fiscal Cliff\n",
      "--------------------\n",
      "Topic:  Democratic Party\n",
      "--------------------\n",
      "Topic:  NRA\n",
      "--------------------\n",
      "Topic:  Women's Issues\n",
      "--------------------\n",
      "Topic:  Homeland Security\n",
      "--------------------\n",
      "Topic:  Sexual Misconduct\n",
      "--------------------\n",
      "Topic:  Domestic Policy\n",
      "--------------------\n",
      "Topic:  Economic Policy\n",
      "--------------------\n",
      "Topic:  Politics\n"
     ]
    }
   ],
   "source": [
    "manager_topic = ManagerTopics()\n",
    "manager_topic.set_new_topics_list()"
   ]
  },
  {
   "cell_type": "code",
   "execution_count": 4,
   "metadata": {},
   "outputs": [],
   "source": [
    "manager_topic.write_topics_file()"
   ]
  },
  {
   "cell_type": "code",
   "execution_count": null,
   "metadata": {
    "collapsed": true
   },
   "outputs": [],
   "source": []
  },
  {
   "cell_type": "markdown",
   "metadata": {},
   "source": []
  },
  {
   "cell_type": "code",
   "execution_count": null,
   "metadata": {
    "collapsed": true
   },
   "outputs": [],
   "source": [
    "allSides = AllSidesScraper()"
   ]
  },
  {
   "cell_type": "code",
   "execution_count": null,
   "metadata": {
    "collapsed": true
   },
   "outputs": [],
   "source": []
  },
  {
   "cell_type": "code",
   "execution_count": null,
   "metadata": {
    "collapsed": true,
    "scrolled": false
   },
   "outputs": [],
   "source": [
    "manager_topic.get_topic_descriptions()"
   ]
  },
  {
   "cell_type": "code",
   "execution_count": null,
   "metadata": {
    "collapsed": true
   },
   "outputs": [],
   "source": [
    "manager_topic.topics['Immigration']."
   ]
  },
  {
   "cell_type": "code",
   "execution_count": null,
   "metadata": {
    "collapsed": true
   },
   "outputs": [],
   "source": [
    "topic = manager_topic.topics['Immigration']"
   ]
  },
  {
   "cell_type": "code",
   "execution_count": null,
   "metadata": {
    "collapsed": true
   },
   "outputs": [],
   "source": [
    "topic_page = requests.get(URL_BASE+topic.url)\n",
    "tree = html.fromstring(topic_page.text)\n",
    "\n",
    "# divs = tree.xpath('//div[@class=\"price-container clearfix\" and .//span[@class = \"price -old \" or @class = \"sale-flag-percent\"] ]')\n",
    "\n",
    "# //div[contains(@class,'info') and p and h2[text()='about']]\n",
    "\n",
    "infoTable_articles = tree.xpath(\n",
    "    \"//div[contains(@class, 'allsides-daily-row') and div[@class='source-area']]\"\n",
    ")"
   ]
  },
  {
   "cell_type": "code",
   "execution_count": null,
   "metadata": {
    "collapsed": true
   },
   "outputs": [],
   "source": [
    "for article in infoTable_articles: \n",
    "    print article.getchildren()"
   ]
  },
  {
   "cell_type": "code",
   "execution_count": null,
   "metadata": {
    "collapsed": true
   },
   "outputs": [],
   "source": [
    "# and div[@class='news-title'] and div[@class='news-body'] "
   ]
  },
  {
   "cell_type": "code",
   "execution_count": null,
   "metadata": {
    "collapsed": true
   },
   "outputs": [],
   "source": []
  }
 ],
 "metadata": {
  "kernelspec": {
   "display_name": "Python 2",
   "language": "python",
   "name": "python2"
  },
  "language_info": {
   "codemirror_mode": {
    "name": "ipython",
    "version": 2
   },
   "file_extension": ".py",
   "mimetype": "text/x-python",
   "name": "python",
   "nbconvert_exporter": "python",
   "pygments_lexer": "ipython2",
   "version": "2.7.13"
  }
 },
 "nbformat": 4,
 "nbformat_minor": 2
}
